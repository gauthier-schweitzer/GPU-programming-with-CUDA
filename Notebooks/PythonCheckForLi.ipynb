{
 "cells": [
  {
   "cell_type": "markdown",
   "metadata": {},
   "source": [
    "# Notebook used to check the algorithm"
   ]
  },
  {
   "cell_type": "markdown",
   "metadata": {},
   "source": [
    "We controlled that the roots we obtained using C were the same as in Python, if we used the same algorithm.\n",
    "We also used the notebook to display the function."
   ]
  },
  {
   "cell_type": "code",
   "execution_count": 27,
   "metadata": {},
   "outputs": [],
   "source": [
    "import numpy as np\n",
    "import pandas as pd\n",
    "import matplotlib.pyplot as plt"
   ]
  },
  {
   "cell_type": "markdown",
   "metadata": {},
   "source": [
    "## Data generation"
   ]
  },
  {
   "cell_type": "code",
   "execution_count": 2,
   "metadata": {
    "collapsed": true
   },
   "outputs": [],
   "source": [
    "n = 100"
   ]
  },
  {
   "cell_type": "code",
   "execution_count": 3,
   "metadata": {},
   "outputs": [
    {
     "name": "stdout",
     "output_type": "stream",
     "text": [
      "[   2.    3.    4.    5.    6.    7.    8.    9.   10.   11.   12.   13.\n",
      "   14.   15.   16.   17.   18.   19.   20.   21.   22.   23.   24.   25.\n",
      "   26.   27.   28.   29.   30.   31.   32.   33.   34.   35.   36.   37.\n",
      "   38.   39.   40.   41.   42.   43.   44.   45.   46.   47.   48.   49.\n",
      "   50.   51.   52.   53.   54.   55.   56.   57.   58.   59.   60.   61.\n",
      "   62.   63.   64.   65.   66.   67.   68.   69.   70.   71.   72.   73.\n",
      "   74.   75.   76.   77.   78.   79.   80.   81.   82.   83.   84.   85.\n",
      "   86.   87.   88.   89.   90.   91.   92.   93.   94.   95.   96.   97.\n",
      "   98.   99.  100.  101.]\n"
     ]
    }
   ],
   "source": [
    "# Set delta as in the paper\n",
    "rho = 10.0\n",
    "# delta = np.random.normal(100, 10, n)\n",
    "delta = np.array([float(n + 1 - i) for i in range(0, n)])\n",
    "delta = np.sort(delta)\n",
    "print(delta)"
   ]
  },
  {
   "cell_type": "code",
   "execution_count": 4,
   "metadata": {},
   "outputs": [
    {
     "name": "stdout",
     "output_type": "stream",
     "text": [
      "[ 3.09395907  6.5715229   6.23552137  5.12864643  3.58327692  3.94755779\n",
      "  4.70494487  5.95731997  6.62643239  4.61699619  5.38257797  4.27158978\n",
      "  6.63207041  3.62949503  6.26378038  4.07628137  4.87177041  2.95019296\n",
      "  5.11359815  6.73687264  4.92595674  5.18693132  4.36189378  3.65771348\n",
      "  4.89868436  6.1676845   4.48662106  5.7795334   5.54486031  5.44037742\n",
      "  3.68661071  4.66051817  5.11942236  5.60079345  3.97969476  6.90249842\n",
      "  5.67803321  4.09410346  5.02946021  6.46270351  4.16550736  6.08306899\n",
      "  5.86061437  5.81011865  5.79409608  5.91760587  5.27919311  4.67232027\n",
      "  5.80242088  4.40566016  4.4273041   5.13347002  4.73725668  7.1202325\n",
      "  3.87259085  4.73316558  6.22925955  4.32022523  5.4516041   5.5084798\n",
      "  5.11209005  5.68367915  3.63010699  4.73749308  6.64585467  4.83596814\n",
      "  6.17098478  5.51606722  5.92901077  6.95036932  4.30625572  3.85313693\n",
      "  4.88160435  5.22109869  5.77686511  3.6276479   4.18633059  4.36355599\n",
      "  6.04378099  5.44736658  6.17645668  5.77328766  3.95364685  4.65080386\n",
      "  5.19035857  3.84817136  4.42158371  5.18988156  4.95222691  3.5589389\n",
      "  4.214965    4.62535098  5.27401016  6.20212229  4.91376634  2.63983019\n",
      "  3.63888377  6.45896259  5.10027883  4.85146133]\n"
     ]
    }
   ],
   "source": [
    "# Set zeta\n",
    "zeta = np.random.normal(5, 1, n)\n",
    "# zeta = np.array([float(n - i) for i in range(0, n)])\n",
    "print(zeta)"
   ]
  },
  {
   "cell_type": "markdown",
   "metadata": {},
   "source": [
    "## Functions definition"
   ]
  },
  {
   "cell_type": "code",
   "execution_count": 5,
   "metadata": {
    "collapsed": true
   },
   "outputs": [],
   "source": [
    "def spectral_func(rho, delta, zeta, x):\n",
    "    return rho + np.sum(zeta ** 2 / (delta - x))"
   ]
  },
  {
   "cell_type": "code",
   "execution_count": 6,
   "metadata": {
    "collapsed": true
   },
   "outputs": [],
   "source": [
    "def spectral_func_prime(delta, zeta, x):\n",
    "    return np.sum(zeta ** 2/(delta - x) ** 2)"
   ]
  },
  {
   "cell_type": "code",
   "execution_count": 7,
   "metadata": {
    "collapsed": true
   },
   "outputs": [],
   "source": [
    "def g_spectral_func(rho, delta, zeta, x, k):\n",
    "    if k == delta.shape[0]:\n",
    "        k -= 1\n",
    "    delta_reduced = np.delete(delta, [k, k+1])\n",
    "    zeta_reduced = np.delete(zeta, [k, k+1])\n",
    "    return spectral_func(rho, delta_reduced, zeta_reduced, x)"
   ]
  },
  {
   "cell_type": "code",
   "execution_count": 8,
   "metadata": {
    "collapsed": true
   },
   "outputs": [],
   "source": [
    "def h_spectral_func(rho, delta, zeta, x, k):\n",
    "    if k == delta.shape[0]:\n",
    "        k -= 1\n",
    "    delta_reduced = delta[k : k+2]\n",
    "    zeta_reduced = zeta[k : k+2]\n",
    "    return spectral_func(rho, delta_reduced, zeta_reduced, x) - rho"
   ]
  },
  {
   "cell_type": "code",
   "execution_count": 9,
   "metadata": {
    "collapsed": true
   },
   "outputs": [],
   "source": [
    "def discriminant_formula_interior(a, b, c):\n",
    "    if a <= 0:\n",
    "        return float(a - np.sqrt(a ** 2 - 4 * b * c)) / float (2 * c)\n",
    "    else:\n",
    "        return float(2 * b) / float(a + np.sqrt(a ** 2 - 4 * b * c))"
   ]
  },
  {
   "cell_type": "code",
   "execution_count": 10,
   "metadata": {
    "collapsed": true
   },
   "outputs": [],
   "source": [
    "def discriminant_formula_exterior(a, b, c):\n",
    "    if a >= 0:\n",
    "        return float(a + np.sqrt(a ** 2 - 4 * b * c)) / float (2 * c)\n",
    "    else:\n",
    "        return float(2 * b) / float(a - np.sqrt(a ** 2 - 4 * b * c))"
   ]
  },
  {
   "cell_type": "code",
   "execution_count": 11,
   "metadata": {
    "collapsed": true
   },
   "outputs": [],
   "source": [
    "def interior_init(rho, delta, zeta, k):\n",
    "    middle = float(delta[k] + delta[k+1]) / 2.0\n",
    "    c = g_spectral_func(rho, delta, zeta, middle, k)\n",
    "    d = delta[k+1] - delta[k]\n",
    "    if spectral_func(rho, delta, zeta, middle) >= 0:\n",
    "        a = c * d + zeta[k] ** 2 + zeta[k+1] ** 2\n",
    "        b = zeta[k] ** 2 * d\n",
    "        return discriminant_formula_interior(a, b, c) + delta[k]\n",
    "    else:\n",
    "        a = - c * d + zeta[k] ** 2 + zeta[k+1] ** 2\n",
    "        b = - zeta[k + 1] ** 2 * d\n",
    "        return discriminant_formula_interior(a, b, c) + delta[k + 1]    "
   ]
  },
  {
   "cell_type": "code",
   "execution_count": 12,
   "metadata": {
    "collapsed": true
   },
   "outputs": [],
   "source": [
    "def exterior_init(rho, delta, zeta):\n",
    "    n = delta.shape[0]\n",
    "    delta_n = delta[n - 1] + np.linalg.norm(zeta) ** 2 / float(rho)\n",
    "    middle = float(delta[n - 1] + delta_n) / 2.0\n",
    "    if spectral_func(rho, delta, zeta, middle) <= 0:\n",
    "        if g_spectral_func(rho, delta, zeta, middle, n - 2) <= - h_spectral_func(rho, delta, zeta, delta_n, n - 2):\n",
    "            return delta_n\n",
    "        else:\n",
    "            d = delta[n - 1] - delta[n - 2]\n",
    "            c = g_spectral_func(rho, delta, zeta, middle, n - 2)\n",
    "            a = - c * d +  zeta[n - 2] ** 2 + zeta[n - 1] ** 2\n",
    "            b = - zeta[n - 1] ** 2 * d\n",
    "            return discriminant_formula_exterior(a, b, c) + delta_n\n",
    "    else:\n",
    "        d = delta[n - 1] - delta[n - 2]\n",
    "        c = g_spectral_func(rho, delta, zeta, middle, n - 2)\n",
    "        a = - c * d +  zeta[n - 2] ** 2 + zeta[n - 1] ** 2\n",
    "        b = - zeta[n - 1] ** 2 * d\n",
    "        return discriminant_formula_exterior(a, b, c) + delta_n"
   ]
  },
  {
   "cell_type": "code",
   "execution_count": 13,
   "metadata": {
    "collapsed": true
   },
   "outputs": [],
   "source": [
    "y = np.zeros((n, ))\n",
    "for k in range(0, n-1):\n",
    "    y[k] = interior_init(rho, delta, zeta, k)\n",
    "y[n - 1] = exterior_init(rho, delta, zeta)"
   ]
  },
  {
   "cell_type": "code",
   "execution_count": 14,
   "metadata": {
    "collapsed": true
   },
   "outputs": [],
   "source": [
    "def spectral_func_second(delta, zeta, x):\n",
    "    return np.sum(2.0 * zeta ** 2 / (delta - x) ** 3)"
   ]
  },
  {
   "cell_type": "code",
   "execution_count": 15,
   "metadata": {},
   "outputs": [
    {
     "data": {
      "image/png": "[encoded data removed]",
      "text/plain": [
       "<matplotlib.figure.Figure at 0x7fe33e086f60>"
      ]
     },
     "metadata": {},
     "output_type": "display_data"
    },
    {
     "data": {
      "image/png": "[encoded data removed]",
      "text/plain": [
       "<matplotlib.figure.Figure at 0x7fe365bad0f0>"
      ]
     },
     "metadata": {},
     "output_type": "display_data"
    },
    {
     "data": {
      "image/png": "[encoded data removed]",
      "text/plain": [
       "<matplotlib.figure.Figure at 0x7fe33b97c5c0>"
      ]
     },
     "metadata": {},
     "output_type": "display_data"
    }
   ],
   "source": [
    "# Plot the functions between delta[k] and delta[k+1]\n",
    "test_spectral = lambda x: spectral_func(rho, delta, zeta, x)\n",
    "\n",
    "# Prime derivative\n",
    "test_spectral_prime = lambda x: spectral_func_prime(delta, zeta, x)\n",
    "\n",
    "test_spectral_second = lambda x: spectral_func_second(delta, zeta, x)\n",
    "\n",
    "# Slight perturbation to avoid divergence on the plot\n",
    "epsilon = 0.00001\n",
    "k = 5\n",
    "linspace = np.linspace(delta[k] + epsilon, delta[k+1] - epsilon, 10000)\n",
    "\n",
    "# Compute the values and plot the original function\n",
    "values = [test_spectral(x) for x in linspace]\n",
    "plt.figure()\n",
    "plt.plot(linspace, values)\n",
    "\n",
    "# Compute the values and plot the derivative\n",
    "values_prime = [test_spectral_prime(x) for x in linspace]\n",
    "plt.figure()\n",
    "plt.plot(linspace, values_prime)\n",
    "\n",
    "# Compute the values and plot the second derivative\n",
    "values_prime = [test_spectral_second(x) for x in linspace]\n",
    "plt.figure()\n",
    "plt.plot(linspace, values_prime)\n",
    "\n",
    "# Show\n",
    "plt.show()"
   ]
  },
  {
   "cell_type": "code",
   "execution_count": 16,
   "metadata": {
    "collapsed": true
   },
   "outputs": [],
   "source": [
    "def abc_gragg_interior(rho, delta, zeta, x, k):\n",
    "    f = spectral_func(rho, delta, zeta, x)\n",
    "    fprime = spectral_func_prime(delta, zeta, x)\n",
    "    fsecond = spectral_func_second(delta, zeta, x)\n",
    "    delta_k = delta[k] - x\n",
    "    delta_kplus1 = delta[k+1] - x\n",
    "    c = f - (delta_k + delta_kplus1) * fprime + delta_k * delta_kplus1 * fsecond / 2.0\n",
    "    b = delta_k * delta_kplus1 * f\n",
    "    a = (delta_k + delta_kplus1) * f - delta_k * delta_kplus1 * fprime \n",
    "    return a, b, c"
   ]
  },
  {
   "cell_type": "code",
   "execution_count": 17,
   "metadata": {
    "collapsed": true
   },
   "outputs": [],
   "source": [
    "def find_root_interior(rho, delta, zeta, x0, k, maxit, epsilon):\n",
    "    i = 0\n",
    "    f = 2 * np.sqrt(epsilon)\n",
    "    x = x0\n",
    "    while (np.abs(f) > epsilon) and (i < maxit):\n",
    "        a, b, c = abc_gragg_interior(rho, delta, zeta, x, k)\n",
    "        eta = discriminant_formula_interior(a, b, c)\n",
    "        x += eta \n",
    "        f = spectral_func(rho, delta, zeta, x)\n",
    "        i += 1\n",
    "    return x"
   ]
  },
  {
   "cell_type": "code",
   "execution_count": 18,
   "metadata": {
    "collapsed": true
   },
   "outputs": [],
   "source": [
    "def find_root_exterior(rho, delta, zeta, x0, maxit, epsilon):\n",
    "    i = 0\n",
    "    f = 2 * epsilon\n",
    "    x = x0\n",
    "    while (np.abs(f) > epsilon) and (i < maxit):\n",
    "        a, b, c = abc_gragg_interior(rho, delta, zeta, x, n - 2)\n",
    "        print(a)\n",
    "        print(b)\n",
    "        print(c)\n",
    "        eta = discriminant_formula_exterior(a, b, c)\n",
    "        x += eta \n",
    "        f = spectral_func(rho, delta, zeta, x)\n",
    "        i += 1\n",
    "    print(i)\n",
    "    return x"
   ]
  },
  {
   "cell_type": "markdown",
   "metadata": {},
   "source": [
    "## Algorithm test"
   ]
  },
  {
   "cell_type": "code",
   "execution_count": 21,
   "metadata": {
    "collapsed": true
   },
   "outputs": [],
   "source": [
    "ytest = []\n",
    "for k in range(0, n-1):\n",
    "    ytest.append(find_root_interior(rho, delta, zeta, y[k], k, 10000, 1e-10))"
   ]
  },
  {
   "cell_type": "code",
   "execution_count": 31,
   "metadata": {},
   "outputs": [
    {
     "data": {
      "image/png": "[encoded data removed]",
      "text/plain": [
       "<matplotlib.figure.Figure at 0x7fe334493eb8>"
      ]
     },
     "metadata": {},
     "output_type": "display_data"
    }
   ],
   "source": [
    "fcontrol = [spectral_func(rho, delta, zeta, t) for t in ytest]\n",
    "pd.DataFrame(fcontrol).hist()\n",
    "plt.show()"
   ]
  }
 ],
 "metadata": {
  "kernelspec": {
   "display_name": "Python 3",
   "language": "python",
   "name": "python3"
  },
  "language_info": {
   "codemirror_mode": {
    "name": "ipython",
    "version": 3
   },
   "file_extension": ".py",
   "mimetype": "text/x-python",
   "name": "python",
   "nbconvert_exporter": "python",
   "pygments_lexer": "ipython3",
   "version": "3.6.1"
  }
 },
 "nbformat": 4,
 "nbformat_minor": 2
}
